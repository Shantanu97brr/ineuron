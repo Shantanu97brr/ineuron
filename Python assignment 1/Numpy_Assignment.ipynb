{
 "cells": [
  {
   "cell_type": "markdown",
   "metadata": {},
   "source": [
    "# Numpy Assignment:"
   ]
  },
  {
   "cell_type": "code",
   "execution_count": 113,
   "metadata": {},
   "outputs": [],
   "source": [
    "import numpy as np\n",
    "import pandas as pd"
   ]
  },
  {
   "cell_type": "markdown",
   "metadata": {},
   "source": [
    "## Q1."
   ]
  },
  {
   "cell_type": "code",
   "execution_count": 114,
   "metadata": {},
   "outputs": [
    {
     "data": {
      "text/plain": [
       "array([[ 1,  1,  1],\n",
       "       [ 4,  2,  1],\n",
       "       [ 9,  3,  1],\n",
       "       [16,  4,  1],\n",
       "       [25,  5,  1]])"
      ]
     },
     "execution_count": 114,
     "metadata": {},
     "output_type": "execute_result"
    }
   ],
   "source": [
    "np.vander([1,2,3,4,5],3)"
   ]
  },
  {
   "cell_type": "markdown",
   "metadata": {},
   "source": [
    "## Q2."
   ]
  },
  {
   "cell_type": "code",
   "execution_count": 115,
   "metadata": {},
   "outputs": [],
   "source": [
    "lst = [3, 5, 7, 2, 8, 10, 11, 65, 72, 81, 99, 100, 150]"
   ]
  },
  {
   "cell_type": "code",
   "execution_count": 116,
   "metadata": {},
   "outputs": [
    {
     "name": "stdout",
     "output_type": "stream",
     "text": [
      "0 3\n",
      "1 5\n",
      "2 7\n",
      "3 2\n",
      "4 8\n",
      "5 10\n",
      "6 11\n",
      "7 65\n",
      "8 72\n",
      "9 81\n",
      "10 99\n"
     ]
    }
   ],
   "source": [
    "for i in range(len(lst) - 2):\n",
    "    print(i, lst[i])"
   ]
  },
  {
   "cell_type": "code",
   "execution_count": 117,
   "metadata": {},
   "outputs": [
    {
     "name": "stdout",
     "output_type": "stream",
     "text": [
      "length of list:  13\n",
      "5.0\n",
      "4.666666666666667\n",
      "5.666666666666667\n",
      "6.666666666666667\n",
      "9.666666666666666\n",
      "28.666666666666668\n",
      "49.333333333333336\n",
      "72.66666666666667\n",
      "84.0\n",
      "93.33333333333333\n",
      "116.33333333333333\n"
     ]
    }
   ],
   "source": [
    "print(\"length of list: \", len(lst))\n",
    "for i in range(len(lst) - 2):\n",
    "    avg = (lst[i] + lst[i+1] + lst[i+2]) / 3\n",
    "    print(avg)"
   ]
  },
  {
   "cell_type": "code",
   "execution_count": 118,
   "metadata": {},
   "outputs": [],
   "source": [
    "lst = [3, 5, 7, 2, 8, 10, 11, 65, 72, 81, 99, 100, 150]"
   ]
  },
  {
   "cell_type": "code",
   "execution_count": 119,
   "metadata": {},
   "outputs": [],
   "source": [
    "def moving_avg(lst):\n",
    "    lst_avg = []\n",
    "    for i in range(len(lst) - 2):\n",
    "        avg = (lst[i] + lst[i+1] + lst[i+2]) / 3\n",
    "        lst_avg.append(avg)\n",
    "    return lst_avg"
   ]
  },
  {
   "cell_type": "code",
   "execution_count": 120,
   "metadata": {},
   "outputs": [
    {
     "name": "stdout",
     "output_type": "stream",
     "text": [
      "[5.0,\n",
      " 4.666666666666667,\n",
      " 5.666666666666667,\n",
      " 6.666666666666667,\n",
      " 9.666666666666666,\n",
      " 28.666666666666668,\n",
      " 49.333333333333336,\n",
      " 72.66666666666667,\n",
      " 84.0,\n",
      " 93.33333333333333,\n",
      " 116.33333333333333]\n"
     ]
    }
   ],
   "source": [
    "import pprint\n",
    "final_lst = moving_avg(lst)\n",
    "pprint.pprint(final_lst)"
   ]
  },
  {
   "cell_type": "code",
   "execution_count": null,
   "metadata": {},
   "outputs": [],
   "source": []
  }
 ],
 "metadata": {
  "kernelspec": {
   "display_name": "Python 3",
   "language": "python",
   "name": "python3"
  },
  "language_info": {
   "codemirror_mode": {
    "name": "ipython",
    "version": 3
   },
   "file_extension": ".py",
   "mimetype": "text/x-python",
   "name": "python",
   "nbconvert_exporter": "python",
   "pygments_lexer": "ipython3",
   "version": "3.6.11"
  }
 },
 "nbformat": 4,
 "nbformat_minor": 4
}
